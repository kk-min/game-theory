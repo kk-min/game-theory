{
 "cells": [
  {
   "cell_type": "markdown",
   "id": "33532ded-8fca-424a-a2a8-d39bfadd9991",
   "metadata": {},
   "source": [
    "# Game Theory 1 - Iterative Elimination of Strictly Dominated Strategies\n",
    "\n",
    "This program performs iterative elimination of strictly dominated strategies on a given input matrix of player utilities for a 2-player game. Each cell of the game (i.e. an outcome) is represented by tuples, and the 2-D matrix is represented by a list of lists that contain utilities. For example, in the Prisoners' Dilemma, the matrix\n",
    "\n",
    "|   | D    | C    |\n",
    "|---|------|------|\n",
    "| D | 1,1  | 3,-1 |\n",
    "| C | -1,3 | 2,2  |\n",
    "\n",
    "Will be of the form: \n",
    "`[\n",
    " [(1,1), (3,-1)],\n",
    " [(-1,3),(2,2)]\n",
    " ]`\n",
    "\n",
    " Elimination is done by comparing row-wise first (Pl) followed by column-wise (P2)."
   ]
  },
  {
   "cell_type": "code",
   "execution_count": 1,
   "id": "c6cf5793-37cb-40c3-b4e2-f976b87fdbfa",
   "metadata": {},
   "outputs": [],
   "source": [
    "def iter_eliminate_rows(matrix):\n",
    "    def dominates(i, j): # Check if row i strictly dominates row j\n",
    "        for k in range(len(matrix[0])):\n",
    "            if  matrix[j][k][0] >= matrix[i][k][0]:\n",
    "                return False\n",
    "        return True\n",
    "\n",
    "    rows_to_delete = {}\n",
    "    for i in range(len(matrix)):\n",
    "        for j in range(i+1, len(matrix)):\n",
    "            if dominates(i, j):\n",
    "                rows_to_delete[j] = True\n",
    "            elif dominates(j, i):\n",
    "                rows_to_delete[i] = True\n",
    "\n",
    "    for row in rows_to_delete:\n",
    "        matrix.pop(row)\n",
    "    return matrix\n",
    "\n",
    "def iter_eliminate_columns(matrix):\n",
    "        def dominates(i, j): # Check if column i strictly dominates column j\n",
    "            for k in range(len(matrix)):\n",
    "                if  matrix[k][j][1] >= matrix[k][i][1]:\n",
    "                    return False\n",
    "            return True\n",
    "\n",
    "        cols_to_delete = {}\n",
    "        for i in range(len(matrix[0])):\n",
    "            for j in range(i+1, len(matrix[0])):\n",
    "                if dominates(i, j):\n",
    "                    cols_to_delete[j] = True\n",
    "                if dominates(j, i):\n",
    "                    cols_to_delete[i] = True\n",
    "\n",
    "        for col in cols_to_delete:\n",
    "            for i in range(len(matrix)):\n",
    "                matrix[i].pop(col)\n",
    "        return matrix\n",
    "\n",
    "def iter_eliminate(matrix):\n",
    "    matrix = iter_eliminate_rows(matrix)\n",
    "    return iter_eliminate_columns(matrix)"
   ]
  },
  {
   "cell_type": "code",
   "execution_count": 2,
   "id": "40a7dae4-e258-4485-8f31-76adf44ff98b",
   "metadata": {},
   "outputs": [
    {
     "name": "stdout",
     "output_type": "stream",
     "text": [
      "[[(1, 1)]]\n"
     ]
    }
   ],
   "source": [
    "matrix = [[(1,1), (3,-1)],[(-1,3),(2,2)]]\n",
    "print(iter_eliminate(matrix))"
   ]
  },
  {
   "cell_type": "markdown",
   "id": "b3eedc2a-9ba8-4f02-bd76-8f1ae3c4993c",
   "metadata": {},
   "source": [
    "In the Prisoners' Dilemma game, iterative elimination of dominated strategies leaves a reduced game where both players can (should) only play (D,D). This is also the Nash Equilibrium of the game (To be discussed in the future)!"
   ]
  }
 ],
 "metadata": {
  "kernelspec": {
   "display_name": "Python 3 (ipykernel)",
   "language": "python",
   "name": "python3"
  },
  "language_info": {
   "codemirror_mode": {
    "name": "ipython",
    "version": 3
   },
   "file_extension": ".py",
   "mimetype": "text/x-python",
   "name": "python",
   "nbconvert_exporter": "python",
   "pygments_lexer": "ipython3",
   "version": "3.11.0"
  }
 },
 "nbformat": 4,
 "nbformat_minor": 5
}
